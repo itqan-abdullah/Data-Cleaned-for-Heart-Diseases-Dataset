{
 "cells": [
  {
   "cell_type": "code",
   "execution_count": 147,
   "id": "e67b7b30",
   "metadata": {},
   "outputs": [],
   "source": [
    "import pandas as pd \n",
    "df1 = pd.read_csv('reprocessed.hungarian.data', sep=' ')\n",
    "df2 = pd.read_csv('processed.cleveland.data', sep=',')\n",
    "df3 = pd.read_csv('processed.switzerland.data', sep=',')\n",
    "df4 = pd.read_csv('processed.va.data', sep=',')\n",
    "\n",
    "\n"
   ]
  },
  {
   "cell_type": "code",
   "execution_count": 148,
   "id": "af090def",
   "metadata": {},
   "outputs": [],
   "source": [
    "df1.columns =['Age', 'sex', 'cp(1-4)', 'trestbps','chol','fbs(1,0)','restecg (0,1,2)','thalach',\n",
    "            'exang (1,0)','oldpeak','slope (1,2,3)','ca','thal (3,6,7)','class att']\n",
    "df2.columns =['Age', 'sex', 'cp(1-4)', 'trestbps','chol','fbs(1,0)','restecg (0,1,2)','thalach',\n",
    "            'exang (1,0)','oldpeak','slope (1,2,3)','ca','thal (3,6,7)','class att']\n",
    "df3.columns =['Age', 'sex', 'cp(1-4)', 'trestbps','chol','fbs(1,0)','restecg (0,1,2)','thalach',\n",
    "            'exang (1,0)','oldpeak','slope (1,2,3)','ca','thal (3,6,7)','class att']\n",
    "df4.columns =['Age', 'sex', 'cp(1-4)', 'trestbps','chol','fbs(1,0)','restecg (0,1,2)','thalach',\n",
    "            'exang (1,0)','oldpeak','slope (1,2,3)','ca','thal (3,6,7)','class att']"
   ]
  },
  {
   "cell_type": "code",
   "execution_count": 149,
   "id": "f250205e",
   "metadata": {},
   "outputs": [],
   "source": [
    "result = pd.concat([df1 , df2 , df3, df4], ignore_index=True, sort=False)"
   ]
  },
  {
   "cell_type": "code",
   "execution_count": 150,
   "id": "fc23e8f8",
   "metadata": {},
   "outputs": [],
   "source": [
    "result = result.sample(frac=1)"
   ]
  },
  {
   "cell_type": "code",
   "execution_count": 151,
   "id": "50ba1e50",
   "metadata": {},
   "outputs": [],
   "source": [
    "import numpy as np\n",
    "result = result.replace('?',np.nan)"
   ]
  },
  {
   "cell_type": "code",
   "execution_count": 152,
   "id": "97defe66",
   "metadata": {},
   "outputs": [],
   "source": [
    "result = result[result.isnull().sum(axis=1) < 3]"
   ]
  },
  {
   "cell_type": "code",
   "execution_count": 153,
   "id": "f04f88a6",
   "metadata": {},
   "outputs": [],
   "source": [
    "result = result.replace('?',np.nan)"
   ]
  },
  {
   "cell_type": "code",
   "execution_count": 154,
   "id": "59c62b89",
   "metadata": {},
   "outputs": [],
   "source": [
    "result['thal (3,6,7)'] = result['thal (3,6,7)'].fillna(0)"
   ]
  },
  {
   "cell_type": "code",
   "execution_count": 155,
   "id": "7b605239",
   "metadata": {},
   "outputs": [],
   "source": [
    "result['thal (3,6,7)'] = result['thal (3,6,7)'].astype(str)"
   ]
  },
  {
   "cell_type": "code",
   "execution_count": 156,
   "id": "454a2570",
   "metadata": {},
   "outputs": [],
   "source": [
    "result['thal (3,6,7)'] = pd.to_numeric(result['thal (3,6,7)'], errors='coerce')"
   ]
  },
  {
   "cell_type": "code",
   "execution_count": 157,
   "id": "c30b3b9c",
   "metadata": {},
   "outputs": [],
   "source": [
    "result['thal (3,6,7)'] = result['thal (3,6,7)'].astype(int)"
   ]
  },
  {
   "cell_type": "code",
   "execution_count": 158,
   "id": "605daeaf",
   "metadata": {},
   "outputs": [
    {
     "data": {
      "text/plain": [
       "-9    265\n",
       " 3    189\n",
       " 7    185\n",
       " 0     80\n",
       " 6     41\n",
       "Name: thal (3,6,7), dtype: int64"
      ]
     },
     "execution_count": 158,
     "metadata": {},
     "output_type": "execute_result"
    }
   ],
   "source": [
    "result['thal (3,6,7)'].value_counts()"
   ]
  },
  {
   "cell_type": "code",
   "execution_count": 159,
   "id": "c542b26b",
   "metadata": {},
   "outputs": [],
   "source": [
    "result['thal (3,6,7)'] = result['thal (3,6,7)'].replace(0,int(result['thal (3,6,7)'].mean()))"
   ]
  },
  {
   "cell_type": "code",
   "execution_count": 160,
   "id": "c9430e6a",
   "metadata": {},
   "outputs": [
    {
     "data": {
      "text/plain": [
       "-9    265\n",
       " 3    189\n",
       " 7    185\n",
       " 0     80\n",
       " 6     41\n",
       "Name: thal (3,6,7), dtype: int64"
      ]
     },
     "execution_count": 160,
     "metadata": {},
     "output_type": "execute_result"
    }
   ],
   "source": [
    "result['thal (3,6,7)'].value_counts()"
   ]
  },
  {
   "cell_type": "code",
   "execution_count": 161,
   "id": "39b4b0d4",
   "metadata": {},
   "outputs": [
    {
     "data": {
      "text/plain": [
       "-9.0    289\n",
       "0.0     175\n",
       "1.0      65\n",
       "2.0      38\n",
       "3.0      20\n",
       "2         3\n",
       "0.0       3\n",
       "0         2\n",
       "1         2\n",
       "9.0       1\n",
       "Name: ca, dtype: int64"
      ]
     },
     "execution_count": 161,
     "metadata": {},
     "output_type": "execute_result"
    }
   ],
   "source": [
    "result['ca'].value_counts()"
   ]
  },
  {
   "cell_type": "code",
   "execution_count": 162,
   "id": "f70c01f0",
   "metadata": {},
   "outputs": [],
   "source": [
    "result['ca'] = pd.to_numeric(result['ca'], errors='coerce')"
   ]
  },
  {
   "cell_type": "code",
   "execution_count": 163,
   "id": "0c0c9e40",
   "metadata": {},
   "outputs": [
    {
     "data": {
      "text/plain": [
       "-9.0    289\n",
       " 0.0    180\n",
       " 1.0     67\n",
       " 2.0     41\n",
       " 3.0     20\n",
       " 9.0      1\n",
       "Name: ca, dtype: int64"
      ]
     },
     "execution_count": 163,
     "metadata": {},
     "output_type": "execute_result"
    }
   ],
   "source": [
    "result['ca'].value_counts()"
   ]
  },
  {
   "cell_type": "code",
   "execution_count": 164,
   "id": "1d540e10",
   "metadata": {},
   "outputs": [],
   "source": [
    "result['ca'] = result['ca'].replace(np.nan,int(result['ca'].mean()))"
   ]
  },
  {
   "cell_type": "code",
   "execution_count": 165,
   "id": "d0428b82",
   "metadata": {},
   "outputs": [
    {
     "data": {
      "text/plain": [
       "2.0     231\n",
       "-9.0    189\n",
       "1.0     154\n",
       "2        99\n",
       "3        27\n",
       "1        24\n",
       "3.0      21\n",
       "Name: slope (1,2,3), dtype: int64"
      ]
     },
     "execution_count": 165,
     "metadata": {},
     "output_type": "execute_result"
    }
   ],
   "source": [
    "result['slope (1,2,3)'].value_counts()\n"
   ]
  },
  {
   "cell_type": "code",
   "execution_count": 166,
   "id": "008dbaaf",
   "metadata": {},
   "outputs": [],
   "source": [
    "result['slope (1,2,3)'] = result['slope (1,2,3)'].replace(np.nan,-9)\n"
   ]
  },
  {
   "cell_type": "code",
   "execution_count": 167,
   "id": "1765c26e",
   "metadata": {},
   "outputs": [],
   "source": [
    "result['slope (1,2,3)'] = pd.to_numeric(result['slope (1,2,3)'], errors='coerce')"
   ]
  },
  {
   "cell_type": "code",
   "execution_count": 168,
   "id": "f4777d69",
   "metadata": {},
   "outputs": [],
   "source": [
    "result['slope (1,2,3)'] = result['slope (1,2,3)'].astype(int)"
   ]
  },
  {
   "cell_type": "code",
   "execution_count": 169,
   "id": "c22e3d1f",
   "metadata": {},
   "outputs": [],
   "source": [
    "result['restecg (0,1,2)'] = pd.to_numeric(result['restecg (0,1,2)'], errors='coerce')"
   ]
  },
  {
   "cell_type": "code",
   "execution_count": 170,
   "id": "164c3d58",
   "metadata": {},
   "outputs": [],
   "source": [
    "result['restecg (0,1,2)'] = result['restecg (0,1,2)'].astype(int)"
   ]
  },
  {
   "cell_type": "code",
   "execution_count": 171,
   "id": "dbabc633",
   "metadata": {},
   "outputs": [],
   "source": [
    "result['fbs(1,0)'] = pd.to_numeric(result['fbs(1,0)'], errors='coerce')"
   ]
  },
  {
   "cell_type": "code",
   "execution_count": 172,
   "id": "365c67c5",
   "metadata": {},
   "outputs": [],
   "source": [
    "result['fbs(1,0)'] = result['fbs(1,0)'].replace(np.nan,int(result['fbs(1,0)'].mean()))"
   ]
  },
  {
   "cell_type": "code",
   "execution_count": 173,
   "id": "cd79af0d",
   "metadata": {},
   "outputs": [
    {
     "data": {
      "text/html": [
       "<div>\n",
       "<style scoped>\n",
       "    .dataframe tbody tr th:only-of-type {\n",
       "        vertical-align: middle;\n",
       "    }\n",
       "\n",
       "    .dataframe tbody tr th {\n",
       "        vertical-align: top;\n",
       "    }\n",
       "\n",
       "    .dataframe thead th {\n",
       "        text-align: right;\n",
       "    }\n",
       "</style>\n",
       "<table border=\"1\" class=\"dataframe\">\n",
       "  <thead>\n",
       "    <tr style=\"text-align: right;\">\n",
       "      <th></th>\n",
       "      <th>Age</th>\n",
       "      <th>sex</th>\n",
       "      <th>cp(1-4)</th>\n",
       "      <th>trestbps</th>\n",
       "      <th>chol</th>\n",
       "      <th>fbs(1,0)</th>\n",
       "      <th>restecg (0,1,2)</th>\n",
       "      <th>thalach</th>\n",
       "      <th>exang (1,0)</th>\n",
       "      <th>oldpeak</th>\n",
       "      <th>slope (1,2,3)</th>\n",
       "      <th>ca</th>\n",
       "      <th>thal (3,6,7)</th>\n",
       "      <th>class att</th>\n",
       "    </tr>\n",
       "  </thead>\n",
       "  <tbody>\n",
       "    <tr>\n",
       "      <th>699</th>\n",
       "      <td>64.0</td>\n",
       "      <td>0.0</td>\n",
       "      <td>4.0</td>\n",
       "      <td>200</td>\n",
       "      <td>0</td>\n",
       "      <td>0.0</td>\n",
       "      <td>0</td>\n",
       "      <td>140</td>\n",
       "      <td>1</td>\n",
       "      <td>1</td>\n",
       "      <td>2</td>\n",
       "      <td>-3.0</td>\n",
       "      <td>3</td>\n",
       "      <td>3.0</td>\n",
       "    </tr>\n",
       "    <tr>\n",
       "      <th>671</th>\n",
       "      <td>59.0</td>\n",
       "      <td>1.0</td>\n",
       "      <td>4.0</td>\n",
       "      <td>135</td>\n",
       "      <td>0</td>\n",
       "      <td>0.0</td>\n",
       "      <td>0</td>\n",
       "      <td>115</td>\n",
       "      <td>1</td>\n",
       "      <td>1</td>\n",
       "      <td>2</td>\n",
       "      <td>-3.0</td>\n",
       "      <td>7</td>\n",
       "      <td>1.0</td>\n",
       "    </tr>\n",
       "    <tr>\n",
       "      <th>152</th>\n",
       "      <td>55.0</td>\n",
       "      <td>1.0</td>\n",
       "      <td>4.0</td>\n",
       "      <td>120.0</td>\n",
       "      <td>270.0</td>\n",
       "      <td>0.0</td>\n",
       "      <td>0</td>\n",
       "      <td>140.0</td>\n",
       "      <td>0.0</td>\n",
       "      <td>0.0</td>\n",
       "      <td>-9</td>\n",
       "      <td>-9.0</td>\n",
       "      <td>-9</td>\n",
       "      <td>0.0</td>\n",
       "    </tr>\n",
       "    <tr>\n",
       "      <th>869</th>\n",
       "      <td>38.0</td>\n",
       "      <td>1.0</td>\n",
       "      <td>4.0</td>\n",
       "      <td>110</td>\n",
       "      <td>289</td>\n",
       "      <td>0.0</td>\n",
       "      <td>0</td>\n",
       "      <td>105</td>\n",
       "      <td>1</td>\n",
       "      <td>1.5</td>\n",
       "      <td>3</td>\n",
       "      <td>-3.0</td>\n",
       "      <td>0</td>\n",
       "      <td>1.0</td>\n",
       "    </tr>\n",
       "    <tr>\n",
       "      <th>49</th>\n",
       "      <td>50.0</td>\n",
       "      <td>1.0</td>\n",
       "      <td>4.0</td>\n",
       "      <td>130.0</td>\n",
       "      <td>233.0</td>\n",
       "      <td>0.0</td>\n",
       "      <td>0</td>\n",
       "      <td>121.0</td>\n",
       "      <td>1.0</td>\n",
       "      <td>2.0</td>\n",
       "      <td>2</td>\n",
       "      <td>-9.0</td>\n",
       "      <td>7</td>\n",
       "      <td>2.0</td>\n",
       "    </tr>\n",
       "    <tr>\n",
       "      <th>...</th>\n",
       "      <td>...</td>\n",
       "      <td>...</td>\n",
       "      <td>...</td>\n",
       "      <td>...</td>\n",
       "      <td>...</td>\n",
       "      <td>...</td>\n",
       "      <td>...</td>\n",
       "      <td>...</td>\n",
       "      <td>...</td>\n",
       "      <td>...</td>\n",
       "      <td>...</td>\n",
       "      <td>...</td>\n",
       "      <td>...</td>\n",
       "      <td>...</td>\n",
       "    </tr>\n",
       "    <tr>\n",
       "      <th>36</th>\n",
       "      <td>41.0</td>\n",
       "      <td>0.0</td>\n",
       "      <td>2.0</td>\n",
       "      <td>110.0</td>\n",
       "      <td>250.0</td>\n",
       "      <td>0.0</td>\n",
       "      <td>1</td>\n",
       "      <td>142.0</td>\n",
       "      <td>0.0</td>\n",
       "      <td>0.0</td>\n",
       "      <td>-9</td>\n",
       "      <td>-9.0</td>\n",
       "      <td>-9</td>\n",
       "      <td>0.0</td>\n",
       "    </tr>\n",
       "    <tr>\n",
       "      <th>894</th>\n",
       "      <td>64.0</td>\n",
       "      <td>1.0</td>\n",
       "      <td>4.0</td>\n",
       "      <td>130</td>\n",
       "      <td>258</td>\n",
       "      <td>1.0</td>\n",
       "      <td>2</td>\n",
       "      <td>130</td>\n",
       "      <td>0</td>\n",
       "      <td>0</td>\n",
       "      <td>-9</td>\n",
       "      <td>-3.0</td>\n",
       "      <td>6</td>\n",
       "      <td>2.0</td>\n",
       "    </tr>\n",
       "    <tr>\n",
       "      <th>313</th>\n",
       "      <td>64.0</td>\n",
       "      <td>1.0</td>\n",
       "      <td>1.0</td>\n",
       "      <td>110.0</td>\n",
       "      <td>211.0</td>\n",
       "      <td>0.0</td>\n",
       "      <td>2</td>\n",
       "      <td>144.0</td>\n",
       "      <td>1.0</td>\n",
       "      <td>1.8</td>\n",
       "      <td>2</td>\n",
       "      <td>0.0</td>\n",
       "      <td>3</td>\n",
       "      <td>0.0</td>\n",
       "    </tr>\n",
       "    <tr>\n",
       "      <th>756</th>\n",
       "      <td>59.0</td>\n",
       "      <td>1.0</td>\n",
       "      <td>4.0</td>\n",
       "      <td>154</td>\n",
       "      <td>0</td>\n",
       "      <td>0.0</td>\n",
       "      <td>1</td>\n",
       "      <td>131</td>\n",
       "      <td>1</td>\n",
       "      <td>1.5</td>\n",
       "      <td>-9</td>\n",
       "      <td>0.0</td>\n",
       "      <td>0</td>\n",
       "      <td>0.0</td>\n",
       "    </tr>\n",
       "    <tr>\n",
       "      <th>379</th>\n",
       "      <td>47.0</td>\n",
       "      <td>1.0</td>\n",
       "      <td>3.0</td>\n",
       "      <td>138.0</td>\n",
       "      <td>257.0</td>\n",
       "      <td>0.0</td>\n",
       "      <td>2</td>\n",
       "      <td>156.0</td>\n",
       "      <td>0.0</td>\n",
       "      <td>0.0</td>\n",
       "      <td>1</td>\n",
       "      <td>0.0</td>\n",
       "      <td>3</td>\n",
       "      <td>0.0</td>\n",
       "    </tr>\n",
       "  </tbody>\n",
       "</table>\n",
       "<p>760 rows × 14 columns</p>\n",
       "</div>"
      ],
      "text/plain": [
       "      Age  sex  cp(1-4) trestbps   chol  fbs(1,0)  restecg (0,1,2) thalach  \\\n",
       "699  64.0  0.0      4.0      200      0       0.0                0     140   \n",
       "671  59.0  1.0      4.0      135      0       0.0                0     115   \n",
       "152  55.0  1.0      4.0    120.0  270.0       0.0                0   140.0   \n",
       "869  38.0  1.0      4.0      110    289       0.0                0     105   \n",
       "49   50.0  1.0      4.0    130.0  233.0       0.0                0   121.0   \n",
       "..    ...  ...      ...      ...    ...       ...              ...     ...   \n",
       "36   41.0  0.0      2.0    110.0  250.0       0.0                1   142.0   \n",
       "894  64.0  1.0      4.0      130    258       1.0                2     130   \n",
       "313  64.0  1.0      1.0    110.0  211.0       0.0                2   144.0   \n",
       "756  59.0  1.0      4.0      154      0       0.0                1     131   \n",
       "379  47.0  1.0      3.0    138.0  257.0       0.0                2   156.0   \n",
       "\n",
       "    exang (1,0) oldpeak  slope (1,2,3)   ca  thal (3,6,7)  class att  \n",
       "699           1       1              2 -3.0             3        3.0  \n",
       "671           1       1              2 -3.0             7        1.0  \n",
       "152         0.0     0.0             -9 -9.0            -9        0.0  \n",
       "869           1     1.5              3 -3.0             0        1.0  \n",
       "49          1.0     2.0              2 -9.0             7        2.0  \n",
       "..          ...     ...            ...  ...           ...        ...  \n",
       "36          0.0     0.0             -9 -9.0            -9        0.0  \n",
       "894           0       0             -9 -3.0             6        2.0  \n",
       "313         1.0     1.8              2  0.0             3        0.0  \n",
       "756           1     1.5             -9  0.0             0        0.0  \n",
       "379         0.0     0.0              1  0.0             3        0.0  \n",
       "\n",
       "[760 rows x 14 columns]"
      ]
     },
     "execution_count": 173,
     "metadata": {},
     "output_type": "execute_result"
    }
   ],
   "source": [
    "result\n"
   ]
  },
  {
   "cell_type": "code",
   "execution_count": 176,
   "id": "9c144df2",
   "metadata": {},
   "outputs": [
    {
     "data": {
      "text/plain": [
       "120.0    102\n",
       "130.0     90\n",
       "140.0     81\n",
       "150.0     40\n",
       "110.0     40\n",
       "        ... \n",
       "174.0      1\n",
       "178        1\n",
       "185        1\n",
       "172.0      1\n",
       "154        1\n",
       "Name: trestbps, Length: 96, dtype: int64"
      ]
     },
     "execution_count": 176,
     "metadata": {},
     "output_type": "execute_result"
    }
   ],
   "source": [
    "result['trestbps'].value_counts()\n"
   ]
  },
  {
   "cell_type": "code",
   "execution_count": 177,
   "id": "83df1c81",
   "metadata": {},
   "outputs": [],
   "source": [
    "result['trestbps'] = result['trestbps'].astype(float)"
   ]
  },
  {
   "cell_type": "code",
   "execution_count": 180,
   "id": "c11c1864",
   "metadata": {},
   "outputs": [],
   "source": [
    "result['trestbps'] = result['trestbps'].replace(np.nan,int(result['trestbps'].mean()))"
   ]
  },
  {
   "cell_type": "code",
   "execution_count": 191,
   "id": "da0da367",
   "metadata": {},
   "outputs": [
    {
     "data": {
      "text/html": [
       "<div>\n",
       "<style scoped>\n",
       "    .dataframe tbody tr th:only-of-type {\n",
       "        vertical-align: middle;\n",
       "    }\n",
       "\n",
       "    .dataframe tbody tr th {\n",
       "        vertical-align: top;\n",
       "    }\n",
       "\n",
       "    .dataframe thead th {\n",
       "        text-align: right;\n",
       "    }\n",
       "</style>\n",
       "<table border=\"1\" class=\"dataframe\">\n",
       "  <thead>\n",
       "    <tr style=\"text-align: right;\">\n",
       "      <th></th>\n",
       "      <th>Age</th>\n",
       "      <th>sex</th>\n",
       "      <th>cp(1-4)</th>\n",
       "      <th>trestbps</th>\n",
       "      <th>chol</th>\n",
       "      <th>fbs(1,0)</th>\n",
       "      <th>restecg (0,1,2)</th>\n",
       "      <th>thalach</th>\n",
       "      <th>exang (1,0)</th>\n",
       "      <th>oldpeak</th>\n",
       "      <th>slope (1,2,3)</th>\n",
       "      <th>ca</th>\n",
       "      <th>thal (3,6,7)</th>\n",
       "      <th>class att</th>\n",
       "    </tr>\n",
       "  </thead>\n",
       "  <tbody>\n",
       "    <tr>\n",
       "      <th>count</th>\n",
       "      <td>760</td>\n",
       "      <td>760</td>\n",
       "      <td>760</td>\n",
       "      <td>760</td>\n",
       "      <td>760</td>\n",
       "      <td>760</td>\n",
       "      <td>760</td>\n",
       "      <td>760</td>\n",
       "      <td>760</td>\n",
       "      <td>760</td>\n",
       "      <td>760</td>\n",
       "      <td>760</td>\n",
       "      <td>760</td>\n",
       "      <td>760</td>\n",
       "    </tr>\n",
       "    <tr>\n",
       "      <th>unique</th>\n",
       "      <td>1</td>\n",
       "      <td>1</td>\n",
       "      <td>1</td>\n",
       "      <td>1</td>\n",
       "      <td>1</td>\n",
       "      <td>1</td>\n",
       "      <td>1</td>\n",
       "      <td>1</td>\n",
       "      <td>1</td>\n",
       "      <td>1</td>\n",
       "      <td>1</td>\n",
       "      <td>1</td>\n",
       "      <td>1</td>\n",
       "      <td>1</td>\n",
       "    </tr>\n",
       "    <tr>\n",
       "      <th>top</th>\n",
       "      <td>False</td>\n",
       "      <td>False</td>\n",
       "      <td>False</td>\n",
       "      <td>False</td>\n",
       "      <td>False</td>\n",
       "      <td>False</td>\n",
       "      <td>False</td>\n",
       "      <td>False</td>\n",
       "      <td>False</td>\n",
       "      <td>False</td>\n",
       "      <td>False</td>\n",
       "      <td>False</td>\n",
       "      <td>False</td>\n",
       "      <td>False</td>\n",
       "    </tr>\n",
       "    <tr>\n",
       "      <th>freq</th>\n",
       "      <td>760</td>\n",
       "      <td>760</td>\n",
       "      <td>760</td>\n",
       "      <td>760</td>\n",
       "      <td>760</td>\n",
       "      <td>760</td>\n",
       "      <td>760</td>\n",
       "      <td>760</td>\n",
       "      <td>760</td>\n",
       "      <td>760</td>\n",
       "      <td>760</td>\n",
       "      <td>760</td>\n",
       "      <td>760</td>\n",
       "      <td>760</td>\n",
       "    </tr>\n",
       "  </tbody>\n",
       "</table>\n",
       "</div>"
      ],
      "text/plain": [
       "          Age    sex cp(1-4) trestbps   chol fbs(1,0) restecg (0,1,2) thalach  \\\n",
       "count     760    760     760      760    760      760             760     760   \n",
       "unique      1      1       1        1      1        1               1       1   \n",
       "top     False  False   False    False  False    False           False   False   \n",
       "freq      760    760     760      760    760      760             760     760   \n",
       "\n",
       "       exang (1,0) oldpeak slope (1,2,3)     ca thal (3,6,7) class att  \n",
       "count          760     760           760    760          760       760  \n",
       "unique           1       1             1      1            1         1  \n",
       "top          False   False         False  False        False     False  \n",
       "freq           760     760           760    760          760       760  "
      ]
     },
     "execution_count": 191,
     "metadata": {},
     "output_type": "execute_result"
    }
   ],
   "source": [
    "result.isnull().describe()"
   ]
  },
  {
   "cell_type": "code",
   "execution_count": 192,
   "id": "eb0085a8",
   "metadata": {},
   "outputs": [],
   "source": [
    "result.to_csv('combined and processed.csv', index=False)"
   ]
  },
  {
   "cell_type": "code",
   "execution_count": null,
   "id": "55b529ab",
   "metadata": {},
   "outputs": [],
   "source": []
  }
 ],
 "metadata": {
  "kernelspec": {
   "display_name": "Python 3 (ipykernel)",
   "language": "python",
   "name": "python3"
  },
  "language_info": {
   "codemirror_mode": {
    "name": "ipython",
    "version": 3
   },
   "file_extension": ".py",
   "mimetype": "text/x-python",
   "name": "python",
   "nbconvert_exporter": "python",
   "pygments_lexer": "ipython3",
   "version": "3.9.12"
  }
 },
 "nbformat": 4,
 "nbformat_minor": 5
}
